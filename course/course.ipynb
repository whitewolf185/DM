{
 "cells": [
  {
   "cell_type": "markdown",
   "metadata": {},
   "source": [
    "# Курсовая работа\n",
    "## Постановка задачи\n",
    "Построить экспоненциальный сплайн для функции, заданной в узлах интерполяции. Осуществить выбор оптимальных параметров натяжения. Сравнить полученные рузультаты с интерполяцией кубическими сплайнами. \n",
    "\n",
    "## Описание\n",
    "### Экспоненциальный сплайн\n",
    "\n",
    "Кубический сплайн имеет прямую аналогию в теории упругости, а именно описывает поведение гибкого стрежня, закрепленного в некоторых точках. С этой точки зрения, кубический сплайн $s$ на каждом интервале $[x_i, x_{i+1}]$, $i = 1, \\ldots, N$ является решением следующей краевой задачи:\n",
    "$$[D^4]s = 0,\\ s(x_i) = f_i,\\ s(x_{i+1}) = f_{i+1},\\ s''(x_i) = s''_i,\\ s''(x_{i+1}) = s''_{i+1}$$\n",
    "Где $s''_i$ и $s''_{i+1}$ подобраны так, чтобы $s \\in C^2[a,b]$, и получаются как решение системы с трехдиагональной матрицей.\n",
    "\n",
    "Полученный таким образом сплайн имеет склонность к образованию точек перегиба независимо от того, соответствует ли это исходным данным или нет. Точки перегиба, возникающие вследствие нежелательных колебаний интерполяционной кривой, называют ложными точками перегиба.\n",
    "\n",
    "Во избежании таких точек, наложим постоянное \\enquote{натяжение} на интервалы, где они появляется. Определим экспоненциальный сплайн $\\tau$ как решение совокупности краевых задач на интервалах $[x_i, x_{i+1}]$, $i = 1, \\ldots, N$ вида:\n",
    "$$[D^4 - p^2_i D^2]\\tau = 0,\\ \\tau(x_i) = f_i,\\ \\tau(x_{i+1}) = f_{i+1},\\ \\tau''(x_i) = \\tau''_i,\\ \\tau''(x_{i+1}) = \\tau''_{i+1}$$\n",
    "Где $p_i$, $i = 1, \\ldots, N$ --- параметр натяжения.\n",
    "\n",
    "При этом имеется два предельных случая:\n",
    "\n",
    "1. $p_i \\rightarrow 0 \\ \\Rightarrow \\ [D^4 - p^2_i D^2]\\tau = 0 \\ \\Rightarrow \\ [D^4]\\tau = 0$. Экспоненциальный сплайн вырождается в кубический сплайн.\n",
    "\n",
    "2. $p_i \\rightarrow \\infty \\ \\Rightarrow \\ [D^4 - p^2_i D^2]\\tau = 0 \\ \\Rightarrow \\ [(1/p^2_i)D^4 - D^2]\\tau = 0 \\ \\Rightarrow \\ [D^2]\\tau = 0$. Экспоненциальный сплайн вырождается в сплайн первого порядка --- ломаную линию.\n",
    "\n",
    "\n",
    "На интервале $[x_i, x_{i+1}]$, $i = 1, \\ldots, N$ экспоненциальный сплайн задается формулой\n",
    "$$\\tau(x) = \\frac{1}{p_i^2 S_i}\\Big[\\tau''_i \\sh(p_i(x_{i+1} - x)) + \\tau''_{i+1} \\sh(p_i(x - x_i))\\Big] + \n",
    "\\left(f_i - \\frac{\\tau''_i}{p_i^2}\\right)\\frac{x_{i+1}-x}{h_i} + \n",
    "\\left(f_{i+1} - \\frac{\\tau''_{i+1}}{p_i^2}\\right)\\frac{x-x_i}{h_i}$$\n",
    "\n",
    "Где $f_i$, $i = 1, \\ldots, N+1$ --- значения функции в узлах интерполяции;\\\\\n",
    "$h_i = x_{i+1} - x_i$,  $S_i = \\sinh(p_i h_i)$, $i = 1, \\ldots, N$;\\\\\n",
    "$\\tau''_i$ определяются решением системы уравнений с трехдиагональной матрицей:\n",
    "$$\n",
    "\\begin{cases}\n",
    "d_1 \\tau''_1 = b_1 \\\\\n",
    "e_{i-1} \\tau''_{i-1} + (d_{i-1} + d_i)\\tau''_i + e_i \\tau''_{i+1} = b_i,\\ (i = 2, \\ldots, N) \\\\\n",
    "d_N \\tau''_{N+1} = b_{N+1}\n",
    "\\end{cases}\n",
    "$$\n",
    "Где:\n",
    "\\begin{align*} \n",
    "e_i &= \\left(\\frac{1}{h_i} - \\frac{p_i}{S_i}\\right) /p^2_i & \\\\\n",
    "d_i &= \\left(p_i \\frac{C_i}{S_i} - \\frac{1}{h_i}\\right)/p^2_i & i = 1, \\ldots, N\\\\\n",
    "C_i &= \\cosh(p_i h_i) & \\\\\n",
    "\\\\\n",
    "b_1 &= b_{N+1} = 0 & \\\\\n",
    "b_i &= \\frac{f_{i+1} - f_i}{h_i} - \\frac{f_i - f_{i-1}}{h_{i-1}} & i = 2, \\ldots, N \\\\\n",
    "\\end{align*} \n",
    "\n",
    "Данная система соответствует сплайну с естественными граничными условиями ($\\tau''_1 = \\tau''_{N+1} = 0$).\n",
    "\n",
    "### Выбор параметров натяжения\n",
    "\n",
    "Отдельный интерес представляет задача выбора параметра натяжения для каждого из интервалов интерполяции, достаточного для устранения ложных точек перегиба.\n",
    "Ложные точки перегиба однозначно устраняются при \\enquote{достаточно больших} значениях параметра, но это также приводит к появлению областей большой кривизны вблизи узлов.\n",
    "\n",
    "Отсутствие точек перегиба на интервале $[x_i, x_{i+1}]$ означает постоянство знака второй производной $\\tau''$. Тогда условия $\\tau''_ib_i > 0$, $\\tau''_{i+1}b_{i+1} > 0$ являются необходимыми и достаточными для этого. Таким образом появляется возможность итеративно изменять параметр $p_i$ до достижения условия $\\tau''_ib_i > 0$ $i = 1, \\ldots, N+1$.\n",
    "\n",
    "Так как рассматривается только естественный сплайн ($\\tau''_1 = \\tau''_{N+1} = 0$), ограничим рассмотрение точками $i = 2, \\ldots, N$. Пусть для некоторого набора параметров $p^{(n)}_i$, $i = 1, \\ldots, N$, выполняется $\\tau''_kb_k < 0$, $k \\in [2, N]$. \n",
    "Обозначим $$\\overline{\\lambda} = \\frac{\\max(|b_k|, (d_{k-1} + d_k) |\\tau''_k|)}{2 \\max(|\\tau''_{k-1}|, |\\tau''_{k+1}|)}$$\n",
    "и положим $\\tilde{p_i} = (\\overline{\\lambda} h_i)^{-1/2}$, $i = k-1, k$ (или возможно $\\tilde{p_i} = \\max(p^{(n)}_i, (\\overline{\\lambda} h_i)^{-1/2})$, если необходимо только увеличивать параметр).\n",
    "\n",
    "Для получения следующих значений параметров натяжения применим механизм релаксации: $$p^{(n+1)} = p^{(n)} + \\omega (\\tilde{p} - p^{(n)})$$\n",
    "\n",
    "Данный итеративный процесс позволяет дополнительно \\enquote{натянуть} сплайн в интервалах с ложными точками перегиба, при этом он не всегда помогает бороться с ложными экстремумами."
   ]
  },
  {
   "cell_type": "markdown",
   "metadata": {},
   "source": [
    "## Исполнение задачи\n",
    "### Сравнение\n",
    "Для начала давайте подоготовим кубический сплайн. Его мы будем использовать для сравнения с нашим экспоненциальным сплайном."
   ]
  },
  {
   "cell_type": "code",
   "execution_count": 1,
   "metadata": {},
   "outputs": [],
   "source": [
    "import numpy as np\n",
    "import matplotlib.pyplot as plt\n",
    "import math\n",
    "from scipy.linalg import solve"
   ]
  },
  {
   "cell_type": "code",
   "execution_count": 2,
   "metadata": {},
   "outputs": [],
   "source": [
    "class bcolors:\n",
    "    HEADER = '\\033[95m'\n",
    "    OKBLUE = '\\033[94m'\n",
    "    OKCYAN = '\\033[96m'\n",
    "    OKGREEN = '\\033[92m'\n",
    "    WARNING = '\\033[93m'\n",
    "    FAIL = '\\033[91m'\n",
    "    ENDC = '\\033[0m'\n",
    "    BOLD = '\\033[1m'\n",
    "    UNDERLINE = '\\033[4m'\n"
   ]
  },
  {
   "cell_type": "code",
   "execution_count": 3,
   "metadata": {},
   "outputs": [],
   "source": [
    "# Вспомогательные функции\n",
    "\n",
    "#TRIDIAGONAL_MATRIX_ALGORITHM\n",
    "def TDMAsolver(A, _d) -> np.array:\n",
    "    n = len(_d)\n",
    "    a = []\n",
    "    b = []\n",
    "    c = []\n",
    "    d = _d\n",
    "    ACopy = A\n",
    "\n",
    "    a.append(0)\n",
    "    b.append(ACopy[0][0])\n",
    "    c.append(ACopy[0][1])\n",
    "    for i in range(1, n - 1):\n",
    "        a.append(ACopy[i][i - 1])\n",
    "        b.append(ACopy[i][i])\n",
    "        c.append(ACopy[i][i + 1])\n",
    "\n",
    "    a.append(ACopy[n - 1][n - 2])\n",
    "    b.append(ACopy[n - 1][n - 1])\n",
    "    c.append(0)\n",
    "\n",
    "    # creating P and Q\n",
    "    p = [-c[0]/b[0]]\n",
    "    q = [d[0]/b[0]]\n",
    "    for i in range(1, n - 1):\n",
    "        p.append(- c[i] / (b[i] + a[i] * p[i - 1]))\n",
    "        q.append((d[i] - a[i] * q[i - 1]) / (b[i] + a[i] * p[i - 1]))\n",
    "\n",
    "    #ans\n",
    "    ans = np.zeros(n)\n",
    "    ans[n - 1] = (d[n - 1] - a[n - 1] * q[n - 2]) / (b[n - 1] + a[n - 1] * p[n - 2])\n",
    "\n",
    "    for i in range(n - 2, -1, -1):\n",
    "        ans[i] = p[i] * ans[i + 1] + q[i]\n",
    "\n",
    "    return ans"
   ]
  },
  {
   "cell_type": "code",
   "execution_count": 4,
   "metadata": {},
   "outputs": [],
   "source": [
    "class cubic_spline:\n",
    "    \"\"\"Класс для построения кубического сплайна.\n",
    "    На вход констроктору передаются:\n",
    "        X_i -- координата х точки интерполяции\n",
    "        f_i -- координата у точки интерполяции\n",
    "        n -- количество точек. ВНИМАНИЕ: 0-индекация\n",
    "        points = 100 -- точность рисования сплайна\n",
    "\n",
    "    Methods:\n",
    "        print_spline(title) -- метод построения полученного сплайна\n",
    "    \"\"\"\n",
    "    def __init__(self, X_i, f_i, points=100) -> None:\n",
    "        self.success = False # переменная правильной сборки сплайна\n",
    "        self.Xi = X_i\n",
    "        self.Yi = f_i\n",
    "        if len(X_i) != len(f_i):\n",
    "            print(f\"{bcolors.FAIL}Неправильная размерность точек. Длины массивов X_i и f_i не совпадают {bcolors.ENDC}\")\n",
    "            return \n",
    "        \n",
    "        n = len(X_i) - 1\n",
    "\n",
    "        # нужно, для 1-ой индексации\n",
    "        h = [0]\n",
    "        for i in range(1, len(X_i)):\n",
    "            h.append(X_i[i] - X_i[i - 1])\n",
    "        \n",
    "        #начнем инициализировать нашу систему \n",
    "        A = [[2 * (h[1] + h[2]) , h[2] , 0]]\n",
    "        _d = [3 * ((f_i[2] - f_i[1]) / h[2]  - (f_i[1] - f_i[0]) / h[1] )]\n",
    "\n",
    "        #заполним часть системы для i = 3 ... n-1\n",
    "        for i in range(3, n):\n",
    "            next_row_A = [0]*len(A[0])\n",
    "            next_row_A[i-3] = h[i-1]\n",
    "            next_row_A[i-2] = 2*(h[i-1] + h[i])\n",
    "            next_row_A[i-1] = h[i]\n",
    "            A.append(next_row_A)\n",
    "\n",
    "            _d.append(3 * ((f_i[i] - f_i[i - 1]) / h[i]  - (f_i[i - 1] - f_i[i - 2]) / h[i-1]))\n",
    "\n",
    "        #заполним часть системы для i = n\n",
    "        next_row_A = [0]*len(A[0])\n",
    "        next_row_A[-1] = 2 * (h[n - 1] + h[n])\n",
    "        next_row_A[-2] = h[n - 1]\n",
    "        A.append(next_row_A)\n",
    "\n",
    "        _d.append(3 * ((f_i[n] - f_i[n - 1]) / h[n]  - (f_i[n - 1] - f_i[n - 2]) / h[n-1]))\n",
    "\n",
    "        c = [0] + TDMAsolver(A,_d).tolist()\n",
    "        a = f_i[:-1]\n",
    "\n",
    "        b = [ (f_i[i] - f_i[i - 1])/h[i] - (1/3) * h[i] * (c[i] + 2 * c[i - 1]) for i  in range(1, n)]\n",
    "        b.append((f_i[n] - f_i[n - 1])/h[n] - (2/3) * h[n] * c[n - 1] )\n",
    "\n",
    "        d = [ (c[i] - c[i - 1]) / (3 * h[i]) for i  in range(1, n)]\n",
    "        d.append( -c[n - 1] / (3 * h[n]))\n",
    "\n",
    "        self.X = np.linspace(X_i[0], X_i[-1], num = points)\n",
    "        self.Y = [self._S_(x, a, b, c, d, X_i) for x in self.X]\n",
    "\n",
    "        self.success = True\n",
    "\n",
    "    def _S_(self, x, a, b, c, d, X):\n",
    "        \"\"\"Функция уравнения кубического сплайна. См. ЛР3 часть 2\"\"\"\n",
    "        for i in range(1, len(X)):\n",
    "            if x >= X[i - 1] and x <= X[i]:\n",
    "                return a[i-1] + b[i-1] * (x - X[i - 1]) + c[i-1] * (x - X[i - 1])**2 + d[i-1] * (x - X[i - 1])**3\n",
    "    \n",
    "    def print_spline(self, title=''):\n",
    "        \"\"\"Функция построения графика для визуализации получившегося кубического сплайна\n",
    "\n",
    "        Args:\n",
    "            Xi (list): Список значений для x_i из таблицы варианта для построения точек\n",
    "            Yi (list): Список значений для f_i из таблицы варианта для построения точек\n",
    "            X (list): Список значений X для получившегося многочлена\n",
    "            Y (list): Список значений Y для получившегося многочлена\n",
    "            t1 (str, optional): Название графика. Defaults to ''.\n",
    "        \"\"\"\n",
    "        if not self.success:\n",
    "            print(f\"{bcolors.WARNING}print_spline: сплайн не сконфигурировался успешно {bcolors.ENDC}\")\n",
    "            return \n",
    "        fig = plt.figure(figsize= (6, 6))\n",
    "        plt.scatter(self.Xi, self.Yi, c = 'r')\n",
    "        plt.plot(self.X, self.Y, c = 'b')\n",
    "        plt.title(title)\n",
    "        plt.show()       "
   ]
  },
  {
   "cell_type": "code",
   "execution_count": 5,
   "metadata": {},
   "outputs": [
    {
     "data": {
      "image/png": "[encoded data removed]",
      "text/plain": [
       "<Figure size 600x600 with 1 Axes>"
      ]
     },
     "metadata": {},
     "output_type": "display_data"
    }
   ],
   "source": [
    "X_i = [1.0, 1.9, 2.8, 3.7, 4.6]\n",
    "f_i = [2.4142, 2.0818, 0.50953, 0.11836, -0.24008]\n",
    "\n",
    "spline = cubic_spline(X_i, f_i)\n",
    "spline.print_spline()"
   ]
  },
  {
   "cell_type": "markdown",
   "metadata": {},
   "source": [
    "### Реализация основной задачи\n",
    "Теперь давайте реализуем нашу основную задачу"
   ]
  },
  {
   "cell_type": "code",
   "execution_count": 6,
   "metadata": {},
   "outputs": [],
   "source": [
    "import math"
   ]
  },
  {
   "cell_type": "code",
   "execution_count": 7,
   "metadata": {},
   "outputs": [],
   "source": [
    "def TDMAsolver_abc(_a,_b,_c, _d) -> np.array:\n",
    "    assert len(_a) == len(_b) and len(_c) == len(_a) and len(_b) == len(_d), f\"Неправильные размерности: len(a) = {len(_a)}, len(b) = {len(_b)}, len(c) = {len(_c)}, len(d) = {len(_d)}\"\n",
    "    n = len(_d)\n",
    "    a = _a\n",
    "    b = _b\n",
    "    c = _c\n",
    "    d = _d\n",
    "\n",
    "    # creating P and Q\n",
    "    p = [-c[0]/b[0]]\n",
    "    q = [d[0]/b[0]]\n",
    "    for i in range(1, n - 1):\n",
    "        p.append(- c[i] / (b[i] + a[i] * p[i - 1]))\n",
    "        q.append((d[i] - a[i] * q[i - 1]) / (b[i] + a[i] * p[i - 1]))\n",
    "\n",
    "    #ans\n",
    "    ans = np.zeros(n)\n",
    "    ans[n - 1] = (d[n - 1] - a[n - 1] * q[n - 2]) / (b[n - 1] + a[n - 1] * p[n - 2])\n",
    "\n",
    "    for i in range(n - 2, -1, -1):\n",
    "        ans[i] = p[i] * ans[i + 1] + q[i]\n",
    "\n",
    "    return ans"
   ]
  },
  {
   "cell_type": "code",
   "execution_count": 8,
   "metadata": {},
   "outputs": [],
   "source": [
    "def debug_output(str):\n",
    "    print(f\"{bcolors.OKCYAN}DEBUG: {bcolors.ENDC}{str}\")"
   ]
  },
  {
   "cell_type": "code",
   "execution_count": 9,
   "metadata": {},
   "outputs": [],
   "source": [
    "class ExponentialSpline:\n",
    "    \"\"\"Экспоненциальный сплайн. \n",
    "    \n",
    "    На вход ему приходят точки размером n и массив сглаживания сегментов p размером n-1\"\"\"\n",
    "    class Segment:\n",
    "        def __init__(self, p=0, x1=0, x2=0, f1=0, f2=0, t1=0, t2=0):\n",
    "            self.p = p\n",
    "            self.h = abs(x1 - x2)\n",
    "            self.t1 = t1\n",
    "            self.t2 = t2\n",
    "            self.x1 = x1\n",
    "            self.x2 = x2\n",
    "            self.f1 = f1\n",
    "            self.f2 = f2\n",
    "\n",
    "\n",
    "        def __call__(self, x) -> float:\n",
    "            return ((self.t1 * math.sinh(self.p* (self.x2 - x)) + self.t2 * math.sinh(self.p * (x - self.x1))) / (self.p * self.p * math.sinh(self.p * self.h)) +\n",
    "                    (self.f1 - self.t1/(self.p * self.p)) * (self.x2 - x)/ self.h +\n",
    "                    (self.f2 - self.t2/(self.p * self.p)) * (x - self.x1)/ self.h)\n",
    "\n",
    "        def __str__(self):\n",
    "            return f\"\"\"(({self.t1} * sinh({self.p} * ({self.x2} - x)) + {self.t2} * sinh({self.p} * (x - {self.x1}))) / ({self.p} * {self.p} * sinh({self.p} * {self.h})) + ({self.f1} - {self.t1}/({self.p} * {self.p})) * ({self.x2} - x)/ {self.h} + ({self.f2} - {self.t2}/({self.p} * {self.p})) * (x - {self.x1})/ {self.h})\\n\\n\"\"\"\n",
    "            \n",
    "    def __init__(self, x, y, p):\n",
    "        assert len(x) == len(y) and len(x)-1 == len(p), f\"{bcolors.WARNING}WARNING:{bcolors.ENDC} Неправильные размеры массивов\\n\"\n",
    "        assert self._check_p_(p), f\"{bcolors.WARNING}WARNING:{bcolors.ENDC} Где-то в массиве p затерялся элемент <= 0.Такое невозможно\"\n",
    "\n",
    "        self.x = x\n",
    "        self.y = y\n",
    "        self.p = p\n",
    "\n",
    "        self.h = np.zeros(len(x)-1)\n",
    "        self.d = np.zeros(len(x)-1)\n",
    "        self.e = np.zeros(len(x)-1)\n",
    "\n",
    "        # массивы\n",
    "        self.b = np.zeros(len(x))\n",
    "        self.t = np.zeros(len(x))\n",
    "\n",
    "        # наши сегменты\n",
    "        self.segment = [] \n",
    "\n",
    "        self.Solve()\n",
    "\n",
    "    def _check_p_(self, p) -> bool:\n",
    "        for value in p:\n",
    "            if value <= 0:\n",
    "                return False\n",
    "        return True\n",
    "\n",
    "    def rebuild(self, x, y, p):\n",
    "        self.__init__(x,y,p)\n",
    "\n",
    "    def Solve(self):\n",
    "        n = len(self.h)\n",
    "        for i in range(len(self.x) - 1):\n",
    "            self.h[i] = abs(self.x[i+1] - self.x[i])\n",
    "            self.d[i] = ((self.p[i] * math.cosh(self.p[i]*self.h[i])/ math.sinh(self.p[i] * self.h[i]) - 1/self.h[i]) /\n",
    "                        (self.p[i] * self.p[i]))\n",
    "            self.e[i] = (1/ self.h[i] - self.p[i] / math.sinh(self.p[i] * self.h[i])) / (self.p[i] * self.p[i])\n",
    "\n",
    "        # обнуляем на всякий значения b\n",
    "        self.b[0] = 0\n",
    "        self.b[n] = 0\n",
    "\n",
    "        # собираем вектор b для решения трехдиагональной матрицы\n",
    "        for i in range(1,n):\n",
    "            self.b[i] = (self.y[i+1] - self.y[i]) / self.h[i] - (self.y[i] - self.y[i-1]) / self.h[i-1]\n",
    "\n",
    "        # заполняем диагонали 3-х диагональной матрицы\n",
    "        a,b,c = np.zeros(n+1),np.zeros(n+1),np.zeros(n+1)\n",
    "        b[0] = 1\n",
    "        for i in range(1,n):\n",
    "            a[i] = self.e[i-1]\n",
    "            b[i] = self.d[i-1] + self.d[i]\n",
    "            c[i] = self.e[i]\n",
    "        b[n] = 1\n",
    "\n",
    "        self.t = TDMAsolver_abc(a,b,c, self.b)\n",
    "        self.segment = []\n",
    "        for i in range(n):\n",
    "            self.segment.append(self.Segment(self.p[i], self.x[i], self.x[i+1], self.y[i], self.y[i+1], self.t[i], self.t[i+1]))          \n",
    "\n",
    "    def Tense(self, relax):\n",
    "        for k in range(len(self.t) - 1):\n",
    "            if self.t[k] * self.b[k] < 0:\n",
    "                lama = max(abs(self.b[k]), (self.d[k-1] + self.d[k]) * abs(self.t[k])) / 2 / max(abs(self.t[k-1]), abs(self.t[k+1]))\n",
    "                for i in range(k-1, k+1):\n",
    "                    new_p = 1/math.sqrt(lama * self.h[i])\n",
    "                    self.p[i] = self.p[i] + relax * (new_p - self.p[i])\n",
    "        \n",
    "        self.Solve()\n",
    "\n",
    "    def __call__(self, val):\n",
    "        assert not (val < self.x[0] or val > self.x[-1]), f\"{bcolors.FAIL}FAILURE:{bcolors.ENDC} Value is out of range!\\n\"\n",
    "\n",
    "        for i in range(len(self.x) - 1):\n",
    "            if val >= self.x[i] and val <= self.x[i+1]:\n",
    "                return self.segment[i](val)\n",
    "\n",
    "    def __len__(self):\n",
    "        return len(self.segment)\n",
    "\n",
    "    def print_spline(self, n=100, title=''):\n",
    "        X = np.linspace(self.x[0], self.x[-1], num = n)\n",
    "        Y = [self.__call__(x) for x in X]\n",
    "\n",
    "        plt.figure(figsize= (6, 6))\n",
    "        plt.scatter(self.x, self.y, c = 'r')\n",
    "        plt.plot(X, Y, c = 'b')\n",
    "        plt.title(title)\n",
    "        plt.show() \n",
    "\n",
    "    def __str__(self):\n",
    "        result = \"\"\n",
    "        for i in range(len(self.x) - 1):\n",
    "            result += f\"[{self.x[i]},{self.x[i+1]}] {self.segment[i]}\"\n",
    "\n",
    "        return result\n",
    "                   "
   ]
  },
  {
   "cell_type": "code",
   "execution_count": 10,
   "metadata": {},
   "outputs": [
    {
     "data": {
      "image/png": "[encoded data removed]",
      "text/plain": [
       "<Figure size 600x600 with 1 Axes>"
      ]
     },
     "metadata": {},
     "output_type": "display_data"
    }
   ],
   "source": [
    "p = [1 for _ in range(len(X_i) - 1)]\n",
    "exp_spline = ExponentialSpline(X_i, f_i, p)\n",
    "exp_spline.print_spline()\n"
   ]
  },
  {
   "cell_type": "code",
   "execution_count": 11,
   "metadata": {},
   "outputs": [
    {
     "name": "stdout",
     "output_type": "stream",
     "text": [
      "[1.0,1.9] ((0.0 * sinh(1 * (1.9 - x)) + -3.196441304407882 * sinh(1 * (x - 1.0))) / (1 * 1 * sinh(1 * 0.8999999999999999)) + (2.4142 - 0.0/(1 * 1)) * (1.9 - x)/ 0.8999999999999999 + (2.0818 - -3.196441304407882/(1 * 1)) * (x - 1.0)/ 0.8999999999999999)\n",
      "\n",
      "[1.9,2.8] ((-3.196441304407882 * sinh(1 * (2.8 - x)) + 3.242650400419776 * sinh(1 * (x - 1.9))) / (1 * 1 * sinh(1 * 0.8999999999999999)) + (2.0818 - -3.196441304407882/(1 * 1)) * (2.8 - x)/ 0.8999999999999999 + (0.50953 - 3.242650400419776/(1 * 1)) * (x - 1.9)/ 0.8999999999999999)\n",
      "\n",
      "[2.8,3.7] ((3.242650400419776 * sinh(1 * (3.7 - x)) + -0.7153577410249493 * sinh(1 * (x - 2.8))) / (1 * 1 * sinh(1 * 0.9000000000000004)) + (0.50953 - 3.242650400419776/(1 * 1)) * (3.7 - x)/ 0.9000000000000004 + (0.11836 - -0.7153577410249493/(1 * 1)) * (x - 2.8)/ 0.9000000000000004)\n",
      "\n",
      "[3.7,4.6] ((-0.7153577410249493 * sinh(1 * (4.6 - x)) + 0.0 * sinh(1 * (x - 3.7))) / (1 * 1 * sinh(1 * 0.8999999999999995)) + (0.11836 - -0.7153577410249493/(1 * 1)) * (4.6 - x)/ 0.8999999999999995 + (-0.24008 - 0.0/(1 * 1)) * (x - 3.7)/ 0.8999999999999995)\n",
      "\n",
      "\n"
     ]
    }
   ],
   "source": [
    "print(exp_spline)"
   ]
  },
  {
   "cell_type": "code",
   "execution_count": 13,
   "metadata": {},
   "outputs": [
    {
     "data": {
      "image/png": "[encoded data removed]",
      "text/plain": [
       "<Figure size 600x600 with 1 Axes>"
      ]
     },
     "metadata": {},
     "output_type": "display_data"
    }
   ],
   "source": [
    "another_p =[1, 2e-2, 2e-2, 2e-2, 2e-2, 2e-2, 2e-2, 2e-2, 2e-2]\n",
    " \n",
    "another_X = [1.47,2.22,2.60,3.35,4.50,4.86,5.52,6.00,7.50,9.00]\n",
    "another_Y = [5.00,3.68,1.38,0.53,0.10,0.17,2.00,2.96,3.68,3.92]\n",
    "exp_spline.rebuild(another_X, another_Y, another_p)\n",
    "exp_spline.print_spline()"
   ]
  },
  {
   "cell_type": "code",
   "execution_count": 14,
   "metadata": {},
   "outputs": [],
   "source": [
    "exp_spline.Tense(10)"
   ]
  },
  {
   "cell_type": "code",
   "execution_count": 15,
   "metadata": {},
   "outputs": [
    {
     "data": {
      "image/png": "[encoded data removed]",
      "text/plain": [
       "<Figure size 600x600 with 1 Axes>"
      ]
     },
     "metadata": {},
     "output_type": "display_data"
    }
   ],
   "source": [
    "exp_spline.print_spline()"
   ]
  }
 ],
 "metadata": {
  "kernelspec": {
   "display_name": "Python 3.10.5 64-bit",
   "language": "python",
   "name": "python3"
  },
  "language_info": {
   "codemirror_mode": {
    "name": "ipython",
    "version": 3
   },
   "file_extension": ".py",
   "mimetype": "text/x-python",
   "name": "python",
   "nbconvert_exporter": "python",
   "pygments_lexer": "ipython3",
   "version": "3.10.5"
  },
  "orig_nbformat": 4,
  "vscode": {
   "interpreter": {
    "hash": "42b50a1a1b5e0a495ac6d0383e184e0171ebe7baaf546f3025075eec5be57675"
   }
  }
 },
 "nbformat": 4,
 "nbformat_minor": 2
}
